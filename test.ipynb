{
 "cells": [
  {
   "cell_type": "code",
   "execution_count": 21,
   "source": [
    "import os\r\n",
    "from random import sample\r\n",
    "universe=os.listdir(r\"C:\\\\Users\\\\ALMAHDY\\\\Desktop\\\\Thanos\\\\universe\")\r\n",
    "universe=sample(universe,25)\r\n",
    "for x in universe:\r\n",
    "    "
   ],
   "outputs": [],
   "metadata": {}
  },
  {
   "cell_type": "code",
   "execution_count": 22,
   "source": [
    "print(universe)"
   ],
   "outputs": [
    {
     "output_type": "stream",
     "name": "stdout",
     "text": [
      "['cover014.png', 'cover002.png', 'cover031.png', 'cover033.png', 'cover015.png', 'cover036.png', 'cover005.png', 'cover013.png', 'cover029.png', 'cover042.png', 'cover007.png', 'cover034.png', 'cover001.png', 'cover025.png', 'cover003.png', 'cover018.png', 'cover019.png', 'cover037.png', 'cover030.png', 'cover022.png', 'cover012.png', 'cover023.png', 'cover039.png', 'cover041.png', 'cover026.png']\n"
     ]
    }
   ],
   "metadata": {}
  },
  {
   "cell_type": "markdown",
   "source": [
    "______________________________________Another solution__________________________________________"
   ],
   "metadata": {}
  },
  {
   "cell_type": "code",
   "execution_count": 1,
   "source": [
    "import os\r\n",
    "import random"
   ],
   "outputs": [],
   "metadata": {}
  },
  {
   "cell_type": "code",
   "execution_count": 3,
   "source": [
    "def data_list(path):\r\n",
    "    return os.listdir(path)\r\n",
    " "
   ],
   "outputs": [],
   "metadata": {}
  },
  {
   "cell_type": "code",
   "execution_count": 9,
   "source": [
    "def thanos(path):\r\n",
    "    num_of_data_to_be_removed=int(len(data_list(path))/2)\r\n",
    "    for i in range(num_of_data_to_be_removed):\r\n",
    "        universe=data_list(path)\r\n",
    "        os.remove(path + random.choice(universe))\r\n",
    "    return data_list(path)"
   ],
   "outputs": [],
   "metadata": {}
  },
  {
   "cell_type": "code",
   "execution_count": null,
   "source": [
    "data_list(r\"C:Users\\ALMAHDY\\Desktop\\Thanos\\universe\")"
   ],
   "outputs": [],
   "metadata": {}
  },
  {
   "cell_type": "code",
   "execution_count": null,
   "source": [
    "thanos(r\"C:Users\\ALMAHDY\\Desktop\\Thanos\\universe\")"
   ],
   "outputs": [],
   "metadata": {}
  }
 ],
 "metadata": {
  "orig_nbformat": 4,
  "language_info": {
   "name": "python",
   "version": "3.8.3",
   "mimetype": "text/x-python",
   "codemirror_mode": {
    "name": "ipython",
    "version": 3
   },
   "pygments_lexer": "ipython3",
   "nbconvert_exporter": "python",
   "file_extension": ".py"
  },
  "kernelspec": {
   "name": "python3",
   "display_name": "Python 3.8.3 64-bit ('base': conda)"
  },
  "interpreter": {
   "hash": "c9c0ee15c52fa15a0f7330427a03ff65ee773d2c19dd02023746eab12ebb689c"
  }
 },
 "nbformat": 4,
 "nbformat_minor": 2
}